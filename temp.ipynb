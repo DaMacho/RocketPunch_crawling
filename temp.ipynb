{
 "cells": [
  {
   "cell_type": "markdown",
   "metadata": {},
   "source": [
    "## This is temporary file to make crawling program"
   ]
  },
  {
   "cell_type": "markdown",
   "metadata": {},
   "source": [
    "### Objective"
   ]
  },
  {
   "cell_type": "markdown",
   "metadata": {},
   "source": [
    "Build a crawling program to get job infomation from **rocketpunch.com**.\n",
    "- Because I am looking for job.\n",
    "      \n",
    "Practice my crawling skill.\n",
    "- One good practice to code everyday.\n",
    "- May good project to fill my portfolio.\n",
    "\n",
    "Just for fun with productive life."
   ]
  },
  {
   "cell_type": "markdown",
   "metadata": {},
   "source": [
    "**4 major componets**\n",
    "\n",
    "- Action module (crawling)\n",
    "- Data access object 1 (mysql)\n",
    "- Data access object 2 (mongodb)\n",
    "- configuration module (personal info)"
   ]
  },
  {
   "cell_type": "raw",
   "metadata": {
    "collapsed": true
   },
   "source": [
    "import requests\n",
    "from bs4 import BeautifulSoup"
   ]
  },
  {
   "cell_type": "raw",
   "metadata": {},
   "source": [
    "from rckpdao import RckpDAO\n",
    "from rckpdao_mongo import save_rckp"
   ]
  },
  {
   "cell_type": "code",
   "execution_count": 1,
   "metadata": {
    "collapsed": true
   },
   "outputs": [],
   "source": [
    "from selenium import webdriver\n",
    "from selenium.webdriver.common.keys import Keys\n",
    "from selenium.webdriver.common.by import By\n",
    "from selenium.webdriver.support.ui import WebDriverWait\n",
    "from selenium.webdriver.support import expected_conditions as EC\n",
    "import time"
   ]
  },
  {
   "cell_type": "code",
   "execution_count": null,
   "metadata": {
    "collapsed": true
   },
   "outputs": [],
   "source": [
    "# getting address by number of pages\n",
    "\n",
    "adds = []\n",
    "for i in range(50):\n",
    "    address = \"https://www.rocketpunch.com/jobs?keywords=데이터&keywords=머신러닝&keywords=machine%20learning&keywords=data&page={}&q=\".format(i)\n",
    "    adds.append(address)\n",
    "print(adds)\n",
    "\n",
    "adds = [\"https://www.rocketpunch.com/jobs?keywords=데이터&keywords=머신러닝&keywords=machine%20learning&keywords=data&page={}&q=\".format(i) for i in range(1,5)]\n",
    "print(adds)"
   ]
  },
  {
   "cell_type": "code",
   "execution_count": null,
   "metadata": {
    "collapsed": true
   },
   "outputs": [],
   "source": []
  },
  {
   "cell_type": "code",
   "execution_count": 41,
   "metadata": {
    "collapsed": true
   },
   "outputs": [
    {
     "name": "stdout",
     "output_type": "stream",
     "text": [
      "(주)블루웨일 (BlueWhale Inc.)\n",
      "https://www.rocketpunch.com/companies/bluewhale/jobs\n",
      "옥토칼럼 (octocolumn)\n",
      "https://www.rocketpunch.com/companies/octocolumn/jobs\n",
      "숨고 (Soomgo)\n",
      "https://www.rocketpunch.com/companies/bravemobile/jobs\n",
      "공팔리터 (08liter)\n",
      "https://www.rocketpunch.com/companies/08liter/jobs\n",
      "모멘터스 (Momentous)\n",
      "https://www.rocketpunch.com/companies/momentous/jobs\n",
      "백패커 (Backpackr)\n",
      "https://www.rocketpunch.com/companies/backpackr/jobs\n",
      "유디프 (UDIFF)\n",
      "https://www.rocketpunch.com/companies/udiff/jobs\n",
      "아이씨비 (ICB)\n",
      "https://www.rocketpunch.com/companies/icb/jobs\n",
      "어썸 (A-Thumb)\n",
      "https://www.rocketpunch.com/companies/happetizer/jobs\n",
      "위버플 (uberple)\n",
      "https://www.rocketpunch.com/companies/uberple/jobs\n",
      "하우투메리 (How To Marry)\n",
      "https://www.rocketpunch.com/companies/howtomarry/jobs\n",
      "일삼헤르츠 (13hz)\n",
      "https://www.rocketpunch.com/companies/13hertz/jobs\n",
      "야놀자 (Yanolja)\n",
      "https://www.rocketpunch.com/companies/yanolja/jobs\n",
      "파이브락스 (5ROCKS)\n",
      "https://www.rocketpunch.com/companies/5rocks/jobs\n",
      "엠투브 (MtoV)\n",
      "https://www.rocketpunch.com/companies/mtov/jobs\n",
      "NSJ Tech (NSJ Tech)\n",
      "https://www.rocketpunch.com/companies/nsjtech/jobs\n",
      "테이블랩 (Table Lab.)\n",
      "https://www.rocketpunch.com/companies/mealant/jobs\n",
      "윙잇 (Wing Eat)\n",
      "https://www.rocketpunch.com/companies/agreable/jobs\n",
      "트릿지 (Tridge)\n",
      "https://www.rocketpunch.com/companies/tridge/jobs\n",
      "씨랩 (C.LAB)\n",
      "https://www.rocketpunch.com/companies/clab/jobs\n",
      "['https://www.rocketpunch.com/companies/bluewhale/jobs', 'https://www.rocketpunch.com/companies/octocolumn/jobs', 'https://www.rocketpunch.com/companies/bravemobile/jobs', 'https://www.rocketpunch.com/companies/08liter/jobs', 'https://www.rocketpunch.com/companies/momentous/jobs', 'https://www.rocketpunch.com/companies/backpackr/jobs', 'https://www.rocketpunch.com/companies/udiff/jobs', 'https://www.rocketpunch.com/companies/icb/jobs', 'https://www.rocketpunch.com/companies/happetizer/jobs', 'https://www.rocketpunch.com/companies/uberple/jobs', 'https://www.rocketpunch.com/companies/howtomarry/jobs', 'https://www.rocketpunch.com/companies/13hertz/jobs', 'https://www.rocketpunch.com/companies/yanolja/jobs', 'https://www.rocketpunch.com/companies/5rocks/jobs', 'https://www.rocketpunch.com/companies/mtov/jobs', 'https://www.rocketpunch.com/companies/nsjtech/jobs', 'https://www.rocketpunch.com/companies/mealant/jobs', 'https://www.rocketpunch.com/companies/agreable/jobs', 'https://www.rocketpunch.com/companies/tridge/jobs', 'https://www.rocketpunch.com/companies/clab/jobs']\n"
     ]
    }
   ],
   "source": [
    "chromedriver = 'D:/DSS/chromedriver_win32/chromedriver.exe'\n",
    "driver = webdriver.Chrome(chromedriver)\n",
    "\n",
    "## place for adds ##\n",
    "\n",
    "try:\n",
    "    driver.get(\"https://www.rocketpunch.com/jobs?keywords=데이터&keywords=머신러닝&keywords=machine%20learning&keywords=data&page=1&q=\")\n",
    "\n",
    "    things = driver.find_elements_by_css_selector('#company-list div.company-name a:nth-child(1)')\n",
    "    #driver.implicitly_wait(10)\n",
    "    comp_links = []\n",
    "    for t in things:\n",
    "        print(t.text)\n",
    "        link = t.get_attribute(\"href\")\n",
    "        comp_links.append(link)\n",
    "        print(link)\n",
    "        \n",
    "    print(comp_links)\n",
    "    \n",
    "except Exception as e:\n",
    "    print(e)\n",
    "    continue\n",
    "    \n",
    "finally:\n",
    "    driver.quit()"
   ]
  },
  {
   "cell_type": "code",
   "execution_count": 47,
   "metadata": {},
   "outputs": [
    {
     "name": "stdout",
     "output_type": "stream",
     "text": [
      "Android Developer\n",
      "https://www.rocketpunch.com/jobs/33555/Android-Developer\n",
      "Python Backend Developer\n",
      "https://www.rocketpunch.com/jobs/33509/Python-Backend-Developer\n",
      "Machine Learning Engineer\n",
      "https://www.rocketpunch.com/jobs/26953/Machine-Learning-Engineer\n",
      "Data Engineer\n",
      "https://www.rocketpunch.com/jobs/26771/Data-Engineer\n",
      "Data Scientist\n",
      "https://www.rocketpunch.com/jobs/22165/Full-Stack-Developer\n",
      "['https://www.rocketpunch.com/jobs/33555/Android-Developer', 'https://www.rocketpunch.com/jobs/33509/Python-Backend-Developer', 'https://www.rocketpunch.com/jobs/26953/Machine-Learning-Engineer', 'https://www.rocketpunch.com/jobs/26771/Data-Engineer', 'https://www.rocketpunch.com/jobs/22165/Full-Stack-Developer']\n"
     ]
    }
   ],
   "source": [
    "chromedriver = 'D:/DSS/chromedriver_win32/chromedriver.exe'\n",
    "driver = webdriver.Chrome(chromedriver)\n",
    "\n",
    "try:\n",
    "    driver.get(comp_links[0])\n",
    "\n",
    "    things = driver.find_elements_by_css_selector('#company-jobs div.ui.job-title.header a')\n",
    "    #driver.implicitly_wait(10)\n",
    "    job_links = []\n",
    "    for t in things:\n",
    "        print(t.text)\n",
    "        link = t.get_attribute(\"href\")\n",
    "        job_links.append(link)\n",
    "        print(link)\n",
    "        \n",
    "    print(job_links)\n",
    "    \n",
    "except Exception as e:\n",
    "    print(e)\n",
    "    \n",
    "finally:\n",
    "    driver.quit()"
   ]
  },
  {
   "cell_type": "code",
   "execution_count": 52,
   "metadata": {},
   "outputs": [
    {
     "name": "stdout",
     "output_type": "stream",
     "text": [
      "2017-11-15 22:30:24.233977\n"
     ]
    }
   ],
   "source": [
    "import datetime\n",
    "print(datetime.datetime.now())"
   ]
  },
  {
   "cell_type": "code",
   "execution_count": null,
   "metadata": {
    "collapsed": true
   },
   "outputs": [],
   "source": [
    "chromedriver = 'D:/DSS/chromedriver_win32/chromedriver.exe'\n",
    "driver = webdriver.Chrome(chromedriver)\n",
    "\n",
    "try:\n",
    "    driver.get(job_links[0])\n",
    "    \n",
    "    title = driver.find_elements_by_css_selector('#company-jobs div.ui.job-title.header a')\n",
    "    condition = driver.find_elements_by_css_selector('#company-jobs div.ui.job-title.header a')\n",
    "    main = driver.find_elements_by_css_selector('#company-jobs div.ui.job-title.header a')\n",
    "    detail = driver.find_elements_by_css_selector('#company-jobs div.ui.job-title.header a')\n",
    "    #driver.implicitly_wait(10)\n",
    "    \n",
    "        \n",
    "    print(title)\n",
    "    print(condition)\n",
    "    print(main)\n",
    "    print(detail)\n",
    "    print()\n",
    "    \n",
    "except Exception as e:\n",
    "    print(e)\n",
    "    \n",
    "finally:\n",
    "    driver.quit()"
   ]
  }
 ],
 "metadata": {
  "kernelspec": {
   "display_name": "Python 3",
   "language": "python",
   "name": "python3"
  },
  "language_info": {
   "codemirror_mode": {
    "name": "ipython",
    "version": 3
   },
   "file_extension": ".py",
   "mimetype": "text/x-python",
   "name": "python",
   "nbconvert_exporter": "python",
   "pygments_lexer": "ipython3",
   "version": "3.6.1"
  }
 },
 "nbformat": 4,
 "nbformat_minor": 2
}
