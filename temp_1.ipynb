{
 "cells": [
  {
   "cell_type": "markdown",
   "metadata": {},
   "source": [
    "## This is temporary file to make crawling program"
   ]
  },
  {
   "cell_type": "markdown",
   "metadata": {},
   "source": [
    "Run by selenium"
   ]
  },
  {
   "cell_type": "markdown",
   "metadata": {},
   "source": [
    "### Objective"
   ]
  },
  {
   "cell_type": "markdown",
   "metadata": {},
   "source": [
    "Build a crawling program to get job infomation from **rocketpunch.com**.\n",
    "- Because I am looking for job.\n",
    "      \n",
    "Practice my crawling skill.\n",
    "- One good practice to code everyday.\n",
    "- May good project to fill my portfolio.\n",
    "\n",
    "Just for fun with productive life."
   ]
  },
  {
   "cell_type": "markdown",
   "metadata": {},
   "source": [
    "**4 major componets**\n",
    "\n",
    "- Action module (crawling)\n",
    "- Data access object 1 (mysql)\n",
    "- Data access object 2 (mongodb)\n",
    "- configuration module (personal info)"
   ]
  },
  {
   "cell_type": "code",
   "execution_count": 37,
   "metadata": {
    "collapsed": true
   },
   "outputs": [],
   "source": [
    "import requests\n",
    "from bs4 import BeautifulSoup\n",
    "import json\n",
    "import re"
   ]
  },
  {
   "cell_type": "code",
   "execution_count": 3,
   "metadata": {},
   "outputs": [
    {
     "name": "stdout",
     "output_type": "stream",
     "text": [
      "2017-11-23 23:47:34.368177\n"
     ]
    }
   ],
   "source": [
    "from selenium import webdriver\n",
    "from selenium.webdriver.common.keys import Keys\n",
    "from selenium.webdriver.common.by import By\n",
    "from selenium.webdriver.support.ui import WebDriverWait\n",
    "from selenium.webdriver.support import expected_conditions as EC\n",
    "\n",
    "import time\n",
    "\n",
    "import datetime\n",
    "print(datetime.datetime.now())"
   ]
  },
  {
   "cell_type": "raw",
   "metadata": {
    "collapsed": true
   },
   "source": [
    "# getting address by number of pages\n",
    "# search condition : Entry level jobs with keywords(머신러닝, machine learning, data, python, machine-learning, data-analysis)\n",
    "# can change search criteria by modifying url"
   ]
  },
  {
   "cell_type": "code",
   "execution_count": 99,
   "metadata": {
    "scrolled": true
   },
   "outputs": [],
   "source": [
    "adds = [\"https://www.rocketpunch.com/api/jobs/template?career_type=1&keywords=%EB%A8%B8%EC%8B%A0%EB%9F%AC%EB%8B%9D&keywords=machine%20learning&keywords=data&keywords=python&keywords=machine-learning&keywords=data-analysis&page={}&q=\".format(i) for i in range(1,15)]"
   ]
  },
  {
   "cell_type": "code",
   "execution_count": 128,
   "metadata": {},
   "outputs": [
    {
     "name": "stdout",
     "output_type": "stream",
     "text": [
      "https://www.rocketpunch.com/jobs/34226/%EB%A6%B4%EB%A0%88%EC%9D%B4-%EC%9D%B8%ED%84%B0%EB%B7%B0-%EB%B6%84%EC%95%BC%EB%B3%84-Co-Founder-%EB%AA%A8%EC%A7%91-%EA%B0%9C%EB%B0%9C-%EC%B1%85%EC%9E%84%EC%9E%90\n",
      "https://www.rocketpunch.com/jobs/33785/payworthiest-Professional-code-designer\n",
      "https://www.rocketpunch.com/jobs/33257/%EC%A7%91%EC%BD%94%EB%94%94-%EC%9D%B8%ED%85%8C%EB%A6%AC%EC%96%B4-%EC%A4%91%EA%B0%9C-%ED%94%8C%EB%9E%AB%ED%8F%BC-%EC%95%88%EB%93%9C%EB%A1%9C%EC%9D%B4%EB%93%9C-%EA%B0%9C%EB%B0%9C%EC%9E%90%EB%A5%BC-%EB%AA%A8%EC%8B%AD%EB%8B%88%EB%8B%A4\n",
      "https://www.rocketpunch.com/jobs/5172/%EC%84%9C%EB%B2%84iOS%EC%95%88%EB%93%9C%EB%A1%9C%EC%9D%B4%EB%93%9C-%EA%B0%9C%EB%B0%9C%EC%9E%90-%EB%AA%A8%EC%A7%91\n",
      "https://www.rocketpunch.com/jobs/32474/%EC%9B%B9-%ED%92%80%EC%8A%A4%ED%83%9D-%EA%B0%9C%EB%B0%9C%EC%9E%90-%EA%B5%AC%EC%9D%B8%ED%95%A9%EB%8B%88%EB%8B%A4\n",
      "https://www.rocketpunch.com/jobs/34194/%EB%B0%B1%EC%95%A4%EB%93%9CBack-end-%EA%B0%9C%EB%B0%9C%EC%9E%90\n",
      "https://www.rocketpunch.com/jobs/9504/Software-Engineer-at-Tridge\n",
      "https://www.rocketpunch.com/jobs/33054/UIUX-Designer-at-Tridge\n",
      "https://www.rocketpunch.com/jobs/27004/O2O-%EA%B1%B0%EB%9E%98%EC%97%B0%EA%B3%84-%ED%94%8C%EB%9E%AB%ED%8F%BC%EC%9D%84-%EC%9C%84%ED%95%9C-%EC%9B%B9-%EC%84%9C%EB%B9%84%EC%8A%A4-%EA%B0%9C%EB%B0%9C\n",
      "https://www.rocketpunch.com/jobs/32994/%EC%86%8C%ED%94%84%ED%8A%B8%EC%9B%A8%EC%96%B4-%EC%97%94%EC%A7%80%EB%8B%88%EC%96%B4%EA%B2%BD%EB%A0%A5-2%EB%85%84-%EC%9D%B4%EB%82%B4\n",
      "https://www.rocketpunch.com/jobs/34189/%EB%A1%9C%EC%BC%93%EC%97%90-%ED%83%91%EC%8A%B9%ED%95%A0-%EC%9B%B9-%ED%94%84%EB%A1%A0%ED%8A%B8%EC%95%A4%EB%93%9C-%EA%B0%9C%EB%B0%9C%EC%9E%90%EB%A5%BC-%EC%B0%BE%EC%8A%B5%EB%8B%88%EB%8B%A4\n",
      "https://www.rocketpunch.com/jobs/34175/%EB%8D%B0%EC%9D%B4%ED%84%B0-%EB%B6%84%EC%84%9D%EA%B0%80\n",
      "https://www.rocketpunch.com/jobs/33844/%EC%A3%BC%EB%8B%88%EC%96%B4-%ED%94%84%EB%A1%A0%ED%8A%B8%EC%97%94%EB%93%9C-%EC%97%94%EC%A7%80%EB%8B%88%EC%96%B4\n",
      "https://www.rocketpunch.com/jobs/34149/Buyble-2017%EB%85%84-%ED%95%98%EB%B0%98%EA%B8%B0-%EB%B6%84%EC%95%BC%EB%B3%84-%EC%8B%A0%EC%9E%85%EA%B2%BD%EB%A0%A5-%EC%B1%84%EC%9A%A9-%EC%84%9C%EB%B2%84%EA%B0%9C%EB%B0%9C\n",
      "https://www.rocketpunch.com/jobs/33100/%EC%84%9C%EB%B2%84%EC%9D%B8%ED%94%84%EB%9D%BC-%EA%B0%9C%EB%B0%9C%EC%9E%90\n",
      "https://www.rocketpunch.com/jobs/33645/%EC%9B%B9%EC%84%9C%EB%B2%84-%EA%B0%9C%EB%B0%9C%EC%9E%90\n",
      "https://www.rocketpunch.com/jobs/33179/Product-Manager-Jr-Sr\n",
      "https://www.rocketpunch.com/jobs/16899/PYTHON-Django-%EA%B0%9C%EB%B0%9C%EC%9E%90-%EB%AA%A8%EC%A7%91\n",
      "https://www.rocketpunch.com/jobs/24333/%EA%B0%9C%EB%B0%9C%EC%9E%90%EA%B0%80-%EC%95%84%EB%8B%8C-%ED%94%84%EB%A1%9C%EA%B7%B8%EB%9E%98%EB%A8%B8%EB%A5%BC-%EC%B0%BE%EC%8A%B5%EB%8B%88%EB%8B%A4\n",
      "https://www.rocketpunch.com/jobs/33816/%EB%A8%B8%EC%8B%A0%EB%9F%AC%EB%8B%9D-%EA%B0%9C%EB%B0%9C%EC%9E%90-%EB%AA%A8%EC%A7%91%EC%A0%95%EA%B7%9C%EC%A7%81%EB%B3%91%EC%97%AD%ED%8A%B9%EB%A1%80\n",
      "https://www.rocketpunch.com/jobs/33217/%EC%9B%B9-%ED%94%84%EB%A1%A0%ED%8A%B8%EC%97%94%EB%93%9C-%EA%B0%9C%EB%B0%9C%EC%9E%90%EC%B1%84%EC%9A%A9\n",
      "https://www.rocketpunch.com/jobs/33987/%EC%8B%9C%EC%84%A0-%EC%B6%94%EC%A0%81Eye-tracking-%EC%8A%A4%ED%83%80%ED%8A%B8%EC%97%85%EC%97%90%EC%84%9C-%EB%94%A5%EB%9F%AC%EB%8B%9D%EC%95%8C%EA%B3%A0%EB%A6%AC%EC%A6%98-%EC%97%94%EC%A7%80%EB%8B%88%EC%96%B4%EB%A5%BC-%EC%B0%BE%EC%8A%B5%EB%8B%88%EB%8B%A4\n"
     ]
    }
   ],
   "source": [
    "def get_con(url):\n",
    "    response = requests.get(url)\n",
    "    content = response.text\n",
    "    contents = json.loads(content)\n",
    "    info = contents['data']['template']\n",
    "    form = re.finditer(r'(/jobs/[^t]\\d+/\\S+[^\"\\s])', info)\n",
    "    return form\n",
    "\n",
    "for i in get_con(adds[0]):\n",
    "    job_link = (\"https://www.rocketpunch.com{}\".format(i.group()))\n",
    "    print(job_link)"
   ]
  },
  {
   "cell_type": "code",
   "execution_count": null,
   "metadata": {
    "collapsed": true
   },
   "outputs": [],
   "source": [
    "chromedriver = 'D:/DSS/chromedriver_win32/chromedriver.exe'\n",
    "driver = webdriver.Chrome(chromedriver)\n",
    "\n",
    "try:\n",
    "    driver.get(job_links[0])\n",
    "    \n",
    "    company_name = driver.find_elements_by_css_selector('div.company-name')\n",
    "    title = driver.find_elements_by_css_selector('h2.nowrap.job-title')\n",
    "    condition = driver.find_elements_by_css_selector('div.job-stat-info')\n",
    "    main = driver.find_elements_by_css_selector('#job-duty')\n",
    "    detail = driver.find_elements_by_css_selector('#job-content')\n",
    "    #driver.implicitly_wait(10)\n",
    "    \n",
    "    print(company_name[0].text)\n",
    "    print(title[0].text)\n",
    "    print(condition[0].text)\n",
    "    print()\n",
    "    print(main[0].text)\n",
    "    print()\n",
    "    print(detail[0].text[:-4])\n",
    "    print(datetime.datetime.now())\n",
    "    \n",
    "except Exception as e:\n",
    "    print(e)\n",
    "    \n",
    "finally:\n",
    "    driver.quit()"
   ]
  },
  {
   "cell_type": "markdown",
   "metadata": {},
   "source": [
    "<br>\n",
    "<br>\n",
    "<br>"
   ]
  },
  {
   "cell_type": "raw",
   "metadata": {},
   "source": [
    "adds = []\n",
    "for i in range(1,20):\n",
    "    address = \"https://www.rocketpunch.com/jobs?career_type=1&keywords=머신러닝&keywords=machine%20learning&keywords=data&keywords=python&keywords=machine-learning&keywords=data-analysis&page={}&q=\".format(i)\n",
    "    adds.append(address)\n",
    "print(adds)"
   ]
  },
  {
   "cell_type": "raw",
   "metadata": {},
   "source": [
    "def get_content(url):\n",
    "    try:\n",
    "        response = requests.get(url)\n",
    "        content = response.text\n",
    "        contents = json.loads(content)\n",
    "        info = contents['data']['template']\n",
    "        m = re.findall(r'(/jobs/[^t]\\d+/\\S+[^\"\\s])', info)\n",
    "        return m\n",
    "    except KeyError:\n",
    "        return \"Error\"\n",
    "\n",
    "get_content(adds[0])"
   ]
  },
  {
   "cell_type": "raw",
   "metadata": {
    "scrolled": false
   },
   "source": [
    "chromedriver = 'D:/DSS/chromedriver_win32/chromedriver.exe'\n",
    "driver = webdriver.Chrome(chromedriver)\n",
    "\n",
    "## place for adds ##\n",
    "\n",
    "try:\n",
    "    driver.get(adds[0])\n",
    "    things = driver.find_elements_by_css_selector(\n",
    "        '#company-list div.company-jobs-detail > div > a.nowrap.job-title.primary.link')\n",
    "    #driver.implicitly_wait(10)\n",
    "    #comp_names = []\n",
    "    comp_links = []\n",
    "    for t in things:\n",
    "        #print(t.text)\n",
    "        #comp_names.append(t.text)\n",
    "        link = t.get_attribute(\"href\")\n",
    "        comp_links.append(link)\n",
    "        print(link)\n",
    "\n",
    "    #print(comp_names)\n",
    "    #print(comp_links)\n",
    "    #search-results > div.ui.blank.right.floated.segment > div > div.mobile.only > a:nth-child(2)\n",
    "    '''\n",
    "    try:\n",
    "        #load_more = driver.find_element_by_css_selector('#search-results > div.ui.blank.right.floated.segment > div a:nth-child({})'.format(i+1))\n",
    "        load_more = WebDriverWait(driver, 10).until(\n",
    "            EC.element_to_be_clickable((By.CSS_SELECTOR, '#search-results > div.ui.blank.right.floated.segment > div a:nth-child({})'.format(i+1)))\n",
    "        )\n",
    "        load_more.click()\n",
    "        #print(load_more.text)\n",
    "        print('clicked')\n",
    "    except Exception as e:\n",
    "        print(e)\n",
    "        break\n",
    "    '''\n",
    "except Exception as e:\n",
    "    print(e)\n",
    "    \n",
    "finally:\n",
    "    driver.quit()"
   ]
  },
  {
   "cell_type": "raw",
   "metadata": {},
   "source": [
    "chromedriver = 'D:/DSS/chromedriver_win32/chromedriver.exe'\n",
    "driver = webdriver.Chrome(chromedriver)\n",
    "\n",
    "try:\n",
    "    driver.get(comp_links[0])\n",
    "\n",
    "    things = driver.find_elements_by_css_selector(\n",
    "        '#company-jobs div.ui.job-title.header a')\n",
    "    #driver.implicitly_wait(10)\n",
    "    job_names = []\n",
    "    job_links = []\n",
    "    for t in things:\n",
    "        print(t.text)\n",
    "        job_names.append(t.text)\n",
    "        link = t.get_attribute(\"href\")\n",
    "        job_links.append(link)\n",
    "        print(link)\n",
    "        \n",
    "    #print(job_names)\n",
    "    #print(job_links)\n",
    "    \n",
    "except Exception as e:\n",
    "    print(e)\n",
    "    \n",
    "finally:\n",
    "    driver.quit()"
   ]
  },
  {
   "cell_type": "raw",
   "metadata": {},
   "source": [
    "chromedriver = 'D:/DSS/chromedriver_win32/chromedriver.exe'\n",
    "driver = webdriver.Chrome(chromedriver)\n",
    "\n",
    "try:\n",
    "    driver.get(comp_links[0])\n",
    "    \n",
    "    company_name = driver.find_elements_by_css_selector('div.company-name')\n",
    "    title = driver.find_elements_by_css_selector('h2.nowrap.job-title')\n",
    "    condition = driver.find_elements_by_css_selector('div.job-stat-info')\n",
    "    main = driver.find_elements_by_css_selector('#job-duty')\n",
    "    detail = driver.find_elements_by_css_selector('#job-content')\n",
    "    #driver.implicitly_wait(10)\n",
    "    \n",
    "    print(company_name[0].text)\n",
    "    print(title[0].text)\n",
    "    print(condition[0].text)\n",
    "    print()\n",
    "    print(main[0].text)\n",
    "    print()\n",
    "    print(detail[0].text[:-4])\n",
    "    print(datetime.datetime.now())\n",
    "    \n",
    "except Exception as e:\n",
    "    print(e)\n",
    "    \n",
    "finally:\n",
    "    driver.quit()"
   ]
  }
 ],
 "metadata": {
  "kernelspec": {
   "display_name": "Python 3",
   "language": "python",
   "name": "python3"
  },
  "language_info": {
   "codemirror_mode": {
    "name": "ipython",
    "version": 3
   },
   "file_extension": ".py",
   "mimetype": "text/x-python",
   "name": "python",
   "nbconvert_exporter": "python",
   "pygments_lexer": "ipython3",
   "version": "3.6.1"
  }
 },
 "nbformat": 4,
 "nbformat_minor": 2
}
