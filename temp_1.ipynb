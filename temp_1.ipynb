{
 "cells": [
  {
   "cell_type": "markdown",
   "metadata": {},
   "source": [
    "## This is temporary file to make crawling program"
   ]
  },
  {
   "cell_type": "markdown",
   "metadata": {},
   "source": [
    "Run by selenium"
   ]
  },
  {
   "cell_type": "markdown",
   "metadata": {},
   "source": [
    "### Objective"
   ]
  },
  {
   "cell_type": "markdown",
   "metadata": {},
   "source": [
    "Build a crawling program to get job infomation from **rocketpunch.com**.\n",
    "- Because I am looking for job.\n",
    "      \n",
    "Practice my crawling skill.\n",
    "- One good practice to code everyday.\n",
    "- May good project to fill my portfolio.\n",
    "\n",
    "Just for fun with productive life."
   ]
  },
  {
   "cell_type": "markdown",
   "metadata": {},
   "source": [
    "**4 major componets**\n",
    "\n",
    "- Action module (crawling)\n",
    "- Data access object 1 (mysql)\n",
    "- Data access object 2 (mongodb)\n",
    "- configuration module (personal info)"
   ]
  },
  {
   "cell_type": "raw",
   "metadata": {
    "collapsed": true
   },
   "source": [
    "import requests\n",
    "from bs4 import BeautifulSoup"
   ]
  },
  {
   "cell_type": "raw",
   "metadata": {},
   "source": [
    "from rckpdao import RckpDAO\n",
    "from rckpdao_mongo import save_rckp"
   ]
  },
  {
   "cell_type": "code",
   "execution_count": 1,
   "metadata": {},
   "outputs": [
    {
     "name": "stdout",
     "output_type": "stream",
     "text": [
      "2017-11-23 16:19:11.739195\n"
     ]
    }
   ],
   "source": [
    "from selenium import webdriver\n",
    "from selenium.webdriver.common.keys import Keys\n",
    "from selenium.webdriver.common.by import By\n",
    "from selenium.webdriver.support.ui import WebDriverWait\n",
    "from selenium.webdriver.support import expected_conditions as EC\n",
    "\n",
    "import time\n",
    "\n",
    "import datetime\n",
    "print(datetime.datetime.now())"
   ]
  },
  {
   "cell_type": "raw",
   "metadata": {
    "collapsed": true
   },
   "source": [
    "# getting address by number of pages\n",
    "# search condition : Entry level jobs with keywords(머신러닝, machine learning, data, python, machine-learning, data-analysis)\n",
    "# can change search criteria by modifying url\n",
    "\n",
    "adds = []\n",
    "for i in range(1,20):\n",
    "    address = \"https://www.rocketpunch.com/jobs?career_type=1&keywords=머신러닝&keywords=machine%20learning&keywords=data&keywords=python&keywords=machine-learning&keywords=data-analysis&page={}&q=\".format(i)\n",
    "    adds.append(address)\n",
    "print(adds)"
   ]
  },
  {
   "cell_type": "code",
   "execution_count": 2,
   "metadata": {
    "scrolled": true
   },
   "outputs": [
    {
     "name": "stdout",
     "output_type": "stream",
     "text": [
      "['https://www.rocketpunch.com/jobs?career_type=1&keywords=머신러닝&keywords=machine%20learning&keywords=data&keywords=python&keywords=machine-learning&keywords=data-analysis&page=1&q=', 'https://www.rocketpunch.com/jobs?career_type=1&keywords=머신러닝&keywords=machine%20learning&keywords=data&keywords=python&keywords=machine-learning&keywords=data-analysis&page=2&q=', 'https://www.rocketpunch.com/jobs?career_type=1&keywords=머신러닝&keywords=machine%20learning&keywords=data&keywords=python&keywords=machine-learning&keywords=data-analysis&page=3&q=', 'https://www.rocketpunch.com/jobs?career_type=1&keywords=머신러닝&keywords=machine%20learning&keywords=data&keywords=python&keywords=machine-learning&keywords=data-analysis&page=4&q=']\n"
     ]
    }
   ],
   "source": [
    "adds = [\"https://www.rocketpunch.com/jobs?career_type=1&keywords=머신러닝&keywords=machine%20learning&keywords=data&keywords=python&keywords=machine-learning&keywords=data-analysis&page={}&q=\".format(i) for i in range(1,5)]\n",
    "print(adds)"
   ]
  },
  {
   "cell_type": "code",
   "execution_count": null,
   "metadata": {
    "collapsed": true
   },
   "outputs": [],
   "source": []
  },
  {
   "cell_type": "code",
   "execution_count": 3,
   "metadata": {
    "scrolled": false
   },
   "outputs": [
    {
     "name": "stdout",
     "output_type": "stream",
     "text": [
      "일삼헤르츠 (13hz)\n",
      "https://www.rocketpunch.com/companies/13hertz/jobs\n",
      "엠투브 (MtoV)\n",
      "https://www.rocketpunch.com/companies/mtov/jobs\n",
      "요비네트워크 (Yobi network)\n",
      "https://www.rocketpunch.com/companies/yobinetwork/jobs\n",
      "아이디엘 (iDL)\n",
      "https://www.rocketpunch.com/companies/playidl/jobs\n",
      "트릿지 (Tridge)\n",
      "https://www.rocketpunch.com/companies/tridge/jobs\n",
      "퍼블리 (PUBLY)\n",
      "https://www.rocketpunch.com/companies/publy/jobs\n",
      "오픈어스 (OPEN US)\n",
      "https://www.rocketpunch.com/companies/openus/jobs\n",
      "크로키닷컴 (Croquis)\n",
      "https://www.rocketpunch.com/companies/croquis/jobs\n",
      "RJ KOREA ENTERTAINMENT\n",
      "https://www.rocketpunch.com/companies/rj-korea-entertainment/jobs\n",
      "주식회사 아이디301 (ID301 Co.,Ltd.)\n",
      "https://www.rocketpunch.com/companies/diygame/jobs\n",
      "번개장터 주식회사 (Bungaejangter Inc.)\n",
      "https://www.rocketpunch.com/companies/quicket/jobs\n",
      "스퀘어랩 (Square Lab)\n",
      "https://www.rocketpunch.com/companies/squarelab/jobs\n",
      "빅피쉬벤처스 (Big Fish Ventures)\n",
      "https://www.rocketpunch.com/companies/bigfishventures/jobs\n",
      "인디고 (indigo)\n",
      "https://www.rocketpunch.com/companies/indigo-5/jobs\n",
      "알고리고 (Algorigo)\n",
      "https://www.rocketpunch.com/companies/algorigo/jobs\n",
      "펜션으로튀어라 (Pensionrun)\n",
      "https://www.rocketpunch.com/companies/pentui/jobs\n",
      "비주얼캠프 (Visual Camp)\n",
      "https://www.rocketpunch.com/companies/visualcamp/jobs\n",
      "망고플레이트 (MangoPlate)\n",
      "https://www.rocketpunch.com/companies/mangoplate/jobs\n",
      "더루프 (theloop)\n",
      "https://www.rocketpunch.com/companies/theloop/jobs\n",
      "빅트리 (Bigtree)\n",
      "https://www.rocketpunch.com/companies/bigtree/jobs\n"
     ]
    }
   ],
   "source": [
    "chromedriver = 'D:/DSS/chromedriver_win32/chromedriver.exe'\n",
    "driver = webdriver.Chrome(chromedriver)\n",
    "\n",
    "## place for adds ##\n",
    "\n",
    "try:\n",
    "    driver.get(adds[0])\n",
    "\n",
    "    things = driver.find_elements_by_css_selector(\n",
    "        '#company-list div.company-name a:nth-child(1)')\n",
    "    #driver.implicitly_wait(10)\n",
    "    comp_names = []\n",
    "    comp_links = []\n",
    "    for t in things:\n",
    "        print(t.text)\n",
    "        comp_names.append(t.text)\n",
    "        link = t.get_attribute(\"href\")\n",
    "        comp_links.append(link)\n",
    "        print(link)\n",
    "        \n",
    "    #print(comp_names)\n",
    "    #print(comp_links)\n",
    "    \n",
    "except Exception as e:\n",
    "    print(e)\n",
    "    \n",
    "finally:\n",
    "    driver.quit()"
   ]
  },
  {
   "cell_type": "code",
   "execution_count": 4,
   "metadata": {},
   "outputs": [
    {
     "name": "stdout",
     "output_type": "stream",
     "text": [
      "집코디 인테리어 중개 플랫폼 안드로이드 개발자를 모십니다\n",
      "https://www.rocketpunch.com/jobs/33257/%EC%A7%91%EC%BD%94%EB%94%94-%EC%9D%B8%ED%85%8C%EB%A6%AC%EC%96%B4-%EC%A4%91%EA%B0%9C-%ED%94%8C%EB%9E%AB%ED%8F%BC-%EC%95%88%EB%93%9C%EB%A1%9C%EC%9D%B4%EB%93%9C-%EA%B0%9C%EB%B0%9C%EC%9E%90%EB%A5%BC-%EB%AA%A8%EC%8B%AD%EB%8B%88%EB%8B%A4\n"
     ]
    }
   ],
   "source": [
    "chromedriver = 'D:/DSS/chromedriver_win32/chromedriver.exe'\n",
    "driver = webdriver.Chrome(chromedriver)\n",
    "\n",
    "try:\n",
    "    driver.get(comp_links[0])\n",
    "\n",
    "    things = driver.find_elements_by_css_selector(\n",
    "        '#company-jobs div.ui.job-title.header a')\n",
    "    #driver.implicitly_wait(10)\n",
    "    job_names = []\n",
    "    job_links = []\n",
    "    for t in things:\n",
    "        print(t.text)\n",
    "        job_names.append(t.text)\n",
    "        link = t.get_attribute(\"href\")\n",
    "        job_links.append(link)\n",
    "        print(link)\n",
    "        \n",
    "    #print(job_names)\n",
    "    #print(job_links)\n",
    "    \n",
    "except Exception as e:\n",
    "    print(e)\n",
    "    \n",
    "finally:\n",
    "    driver.quit()"
   ]
  },
  {
   "cell_type": "code",
   "execution_count": 5,
   "metadata": {},
   "outputs": [
    {
     "data": {
      "text/plain": [
       "['집코디 인테리어 중개 플랫폼 안드로이드 개발자를 모십니다']"
      ]
     },
     "execution_count": 5,
     "metadata": {},
     "output_type": "execute_result"
    }
   ],
   "source": [
    "job_names"
   ]
  },
  {
   "cell_type": "code",
   "execution_count": 13,
   "metadata": {},
   "outputs": [
    {
     "name": "stdout",
     "output_type": "stream",
     "text": [
      "일삼헤르츠 (13hz)\n",
      "집코디 인테리어 중개 플랫폼 안드로이드 개발자를 모십니다\n",
      "3,000 - 4,000만원 / 신입, 경력\n",
      "\n",
      "집코디(머신러닝) 인테리어 중개 플랫폼 분야\n",
      "○ 집코디는 360 사진 VR / AR 인테리어 시공 포트폴리오와 가구 및 자재정보 를 제공하고 이와 동시에 온라인 구매가 가능합니다. 또한, 최저가 가구, 소품 및 자재 공급으로 인테리어 비용을 절감하면서 가구, 소품 업체들과의 소셜커머스 협약을 통해 판매금액에 10%의 수수료를 지급받음으로써 시공업체의 손해를 해결합니다.\n",
      "○ 머신러닝을 통한 인테리어 소품을 추천하고, 책임 인테리어 하자보증A/S제도 3년, 그리고 최저가 자재 검색 및 인력 비용 산출과 인테리어 비교견적 중개 및 인테리어 감리서비스를 진행하고 있습니다..\n",
      "\n",
      "집코디 팀의 Front-end, Back-end가 가능한 팀원을 추가로 구인합니다. (현재 개발 5명, 디자인 3명, 인테리어 3명, 기획 3명 보유)\n",
      "다양한 경험을 원하시는 개발자분들 모시고 싶습니다.\n",
      "더 보기\n",
      "\n",
      "담당업무\n",
      "- 16만개 인테리어 데이터 기반 머신러닝을 적용한 VR체험형 인테리어 중개 플랫폼 안드로이드 개발\n",
      "- 16만개 인테리어 데이터 기반 머신러닝을 적용한 VR체험형 인테리어 중개 플랫폼 관리자 페이지 개발\n",
      "\n",
      "자격요건\n",
      "- 개발 경력 최소 1년 이상( 13년차 / 5년차 / 3년차 / 2년차 개발자 보유)\n",
      "- 개발에 대한 전반적인 이해와 지식을 갖고 계신분\n",
      "- HTML(Bootstrap), CSS(SCSS), Javascript(JQuery), Git 개발 경험\n",
      "- 능동적으로 문제를 해결할 수 있는 분\n",
      "\n",
      "우대사항\n",
      "- Unity 유경험자\n",
      "- VR/AR 유경험자\n",
      "- 스타트업 유경험자\n",
      "- React, React Native 개발 경험자\n",
      "- Ruby 개발 경험자\n",
      "- 안드로이드 개발 경험자\n",
      "\n",
      "지원방법\n",
      "- 자유 양식으로 이력서/경력 기술서를 13hz@13hz.kr 로 보내주세요\n",
      "- 진행했던 프로젝트에 대해 담당했던 역할과 참여율을 구체적으로 명시해주세요\n",
      "- 문의 : 010.4202.9008\n",
      "\n",
      "근무조건\n",
      "- 연봉 : 3000-3500만원 (경력과 조건에 따라 달라질 수 있습니다. 지원시 희망연봉을 알려주세요)\n",
      "- 위치 : 서울시 마포구 동교로 12길 3, 1층 (서교동 480-6)\n",
      "- 개발 환경 : 입사시 개발 환경은 원하는 조건으로 맞춰드립니다. (애플 빠돌이 입니다.)\n",
      "\n",
      "업무문화\n",
      "- 책임감을 바탕으로한 자율성으로 목표를 세우고 달성하고 함께 성장하는 문화를 지향합니다\n",
      "- 스스로 성장하고 함께 성장하는 것을 목표로 합니다\n",
      "- 수평적인 문화를 바탕으로 한 빠른 의사소통을 지향합니다\n",
      "\n",
      "일삼헤르츠는 해야할 것도 많고 할 수 있는 것도 많습니다\n",
      "초기 창업 멤버로서 같이 성장하고 동기부여할 열정 가능한 팀원을 찾고 있습니다\n",
      "많은 지원부탁드립니다 감사합니다\n",
      "\n",
      "2017-11-23 16:32:36.039011\n"
     ]
    }
   ],
   "source": [
    "chromedriver = 'D:/DSS/chromedriver_win32/chromedriver.exe'\n",
    "driver = webdriver.Chrome(chromedriver)\n",
    "\n",
    "try:\n",
    "    driver.get(job_links[0])\n",
    "    \n",
    "    company_name = comp_names[0]\n",
    "    title = job_names[0]\n",
    "    condition = driver.find_elements_by_css_selector('div.job-stat-info')\n",
    "    main = driver.find_elements_by_css_selector('#job-duty')\n",
    "    detail = driver.find_elements_by_css_selector('#job-content')\n",
    "    #driver.implicitly_wait(10)\n",
    "    \n",
    "    print(company_name)\n",
    "    print(title)    \n",
    "    print(condition[0].text)\n",
    "    print()\n",
    "    print(main[0].text)\n",
    "    print()\n",
    "    print(detail[0].text[:-4])\n",
    "    print(datetime.datetime.now())\n",
    "    \n",
    "except Exception as e:\n",
    "    print(e)\n",
    "    \n",
    "finally:\n",
    "    driver.quit()"
   ]
  },
  {
   "cell_type": "code",
   "execution_count": 7,
   "metadata": {
    "collapsed": true
   },
   "outputs": [],
   "source": [
    "import requests\n",
    "from bs4 import BeautifulSoup"
   ]
  },
  {
   "cell_type": "code",
   "execution_count": 12,
   "metadata": {},
   "outputs": [
    {
     "name": "stdout",
     "output_type": "stream",
     "text": [
      "https://www.rocketpunch.com/jobs/33257/%EC%A7%91%EC%BD%94%EB%94%94-%EC%9D%B8%ED%85%8C%EB%A6%AC%EC%96%B4-%EC%A4%91%EA%B0%9C-%ED%94%8C%EB%9E%AB%ED%8F%BC-%EC%95%88%EB%93%9C%EB%A1%9C%EC%9D%B4%EB%93%9C-%EA%B0%9C%EB%B0%9C%EC%9E%90%EB%A5%BC-%EB%AA%A8%EC%8B%AD%EB%8B%88%EB%8B%A4\n",
      "집코디(머신러닝) 인테리어 중개 플랫폼 분야  ○ 집코디는 360 사진 VR / AR 인테리어 시공 포트폴리오와 가구 및 자재정보 를 제공하고 이와 동시에 온라인 구매가 가능합니다. 또한, 최저가 가구, 소품 및 자재 공급으로 인테리어 비용을 절감하면서 가구, 소품 업체들과의 소셜커머스 협약을 통해 판매금액에 10%의 수수료를 지급받음으로써 시공업체의 손해를 해결합니다.  ○ 머신러닝을 통한 인테리어 소품을 추천하고, 책임 인테리어 하자보증A/S제도 3년, 그리고 최저가 자재 검색 및 인력 비용 산출과 인테리어 비교견적 중개 및 인테리어 감리서비스를 진행하고 있습니다..집코디 팀의 Front-end, Back-end가 가능한 팀원을 추가로 구인합니다. (현재 개발 5명, 디자인 3명, 인테리어 3명, 기획 3명 보유)다양한 경험을 원하시는 개발자분들 모시고 싶습니다.\n",
      "            \n",
      "            \n",
      "담당업무- 16만개 인테리어 데이터 기반 머신러닝을 적용한 VR체험형 인테리어 중개 플랫폼 안드로이드 개발- 16만개 인테리어 데이터 기반 머신러닝을 적용한 VR체험형 인테리어 중개 플랫폼 관리자 페이지 개발자격요건- 개발 경력 최소 1년 이상( 13년차 / 5년차 / 3년차 / 2년차 개발자 보유)- 개발에 대한 전반적인 이해와 지식을 갖고 계신분- HTML(Bootstrap), CSS(SCSS), Javascript(JQuery), Git 개발 경험- 능동적으로 문제를 해결할 수 있는 분우대사항- Unity 유경험자- VR/AR 유경험자- 스타트업 유경험자- React, React Native 개발 경험자- Ruby 개발 경험자- 안드로이드 개발 경험자지원방법- 자유 양식으로 이력서/경력 기술서를 13hz@13hz.kr 로 보내주세요- 진행했던 프로젝트에 대해 담당했던 역할과 참여율을 구체적으로 명시해주세요- 문의 : 010.4202.9008근무조건- 연봉 : 3000-3500만원 (경력과 조건에 따라 달라질 수 있습니다. 지원시 희망연봉을 알려주세요)- 위치 : 서울시 마포구 동교로 12길 3, 1층 (서교동 480-6)- 개발 환경 : 입사시 개발 환경은 원하는 조건으로 맞춰드립니다. (애플 빠돌이 입니다.)업무문화- 책임감을 바탕으로한 자율성으로 목표를 세우고 달성하고 함께 성장하는 문화를 지향합니다- 스스로 성장하고 함께 성장하는 것을 목표로 합니다- 수평적인 문화를 바탕으로 한 빠른 의사소통을 지향합니다일삼헤르츠는 해야할 것도 많고 할 수 있는 것도 많습니다초기 창업 멤버로서 같이 성장하고 동기부여할 열정 가능한 팀원을 찾고 있습니다많은 지원부탁드립니다 감사합니다\n",
      "            \n",
      "            \n"
     ]
    }
   ],
   "source": [
    "try:\n",
    "    print(job_links[0])\n",
    "    res = requests.get(job_links[0])\n",
    "except Exception:\n",
    "    raise Exception('crawl error')\n",
    "\n",
    "content = res.text\n",
    "soup = BeautifulSoup(content, 'html5lib')\n",
    "\n",
    "# soup 에서 javascript 제거\n",
    "for script in soup([\"script\", \"style\"]):\n",
    "    script.extract()\n",
    "\n",
    "# title 추출\n",
    "title = soup.find('div', attrs = {'id' : 'job-duty'})\n",
    "if title == None or title == '':\n",
    "    print(0)\n",
    "title = title.text[:-4]\n",
    "\n",
    "# 본문 추출\n",
    "content = soup.find('div', attrs = {'id' : 'job-content'})\n",
    "if content == None or content == '':\n",
    "    print(0)\n",
    "content = content.text.strip()[:-4]\n",
    "\n",
    "print(title)\n",
    "print(content)"
   ]
  }
 ],
 "metadata": {
  "kernelspec": {
   "display_name": "Python 3",
   "language": "python",
   "name": "python3"
  },
  "language_info": {
   "codemirror_mode": {
    "name": "ipython",
    "version": 3
   },
   "file_extension": ".py",
   "mimetype": "text/x-python",
   "name": "python",
   "nbconvert_exporter": "python",
   "pygments_lexer": "ipython3",
   "version": "3.6.1"
  }
 },
 "nbformat": 4,
 "nbformat_minor": 2
}
