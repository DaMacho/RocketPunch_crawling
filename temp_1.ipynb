{
 "cells": [
  {
   "cell_type": "markdown",
   "metadata": {},
   "source": [
    "## This is temporary file to make crawling program"
   ]
  },
  {
   "cell_type": "markdown",
   "metadata": {},
   "source": [
    "Run by selenium"
   ]
  },
  {
   "cell_type": "markdown",
   "metadata": {},
   "source": [
    "### Objective"
   ]
  },
  {
   "cell_type": "markdown",
   "metadata": {},
   "source": [
    "Build a crawling program to get job infomation from **rocketpunch.com**.\n",
    "- Because I am looking for job.\n",
    "      \n",
    "Practice my crawling skill.\n",
    "- One good practice to code everyday.\n",
    "- May good project to fill my portfolio.\n",
    "\n",
    "Just for fun with productive life."
   ]
  },
  {
   "cell_type": "markdown",
   "metadata": {},
   "source": [
    "**4 major componets**\n",
    "\n",
    "- Action module (crawling)\n",
    "- Data access object 1 (mysql)\n",
    "- Data access object 2 (mongodb)\n",
    "- configuration module (personal info)"
   ]
  },
  {
   "cell_type": "raw",
   "metadata": {
    "collapsed": true
   },
   "source": [
    "import requests\n",
    "from bs4 import BeautifulSoup"
   ]
  },
  {
   "cell_type": "raw",
   "metadata": {},
   "source": [
    "from rckpdao import RckpDAO\n",
    "from rckpdao_mongo import save_rckp"
   ]
  },
  {
   "cell_type": "code",
   "execution_count": 6,
   "metadata": {},
   "outputs": [
    {
     "name": "stdout",
     "output_type": "stream",
     "text": [
      "2017-11-18 14:55:35.876529\n"
     ]
    }
   ],
   "source": [
    "from selenium import webdriver\n",
    "from selenium.webdriver.common.keys import Keys\n",
    "from selenium.webdriver.common.by import By\n",
    "from selenium.webdriver.support.ui import WebDriverWait\n",
    "from selenium.webdriver.support import expected_conditions as EC\n",
    "\n",
    "import time\n",
    "\n",
    "import datetime\n",
    "print(datetime.datetime.now())"
   ]
  },
  {
   "cell_type": "code",
   "execution_count": null,
   "metadata": {
    "collapsed": true
   },
   "outputs": [],
   "source": [
    "# getting address by number of pages\n",
    "# search condition : Entry level jobs with keywords(머신러닝, machine learning, data, python, machine-learning, data-analysis)\n",
    "# can change search criteria by modifying url\n",
    "\n",
    "adds = []\n",
    "for i in range(1,20):\n",
    "    address = \"https://www.rocketpunch.com/jobs?career_type=1&keywords=머신러닝&keywords=machine%20learning&keywords=data&keywords=python&keywords=machine-learning&keywords=data-analysis&page={}&q=\".format(i)\n",
    "    adds.append(address)\n",
    "print(adds)"
   ]
  },
  {
   "cell_type": "code",
   "execution_count": 2,
   "metadata": {
    "scrolled": true
   },
   "outputs": [
    {
     "name": "stdout",
     "output_type": "stream",
     "text": [
      "['https://www.rocketpunch.com/jobs?career_type=1&keywords=머신러닝&keywords=machine%20learning&keywords=data&keywords=python&keywords=machine-learning&keywords=data-analysis&page=1&q=', 'https://www.rocketpunch.com/jobs?career_type=1&keywords=머신러닝&keywords=machine%20learning&keywords=data&keywords=python&keywords=machine-learning&keywords=data-analysis&page=2&q=', 'https://www.rocketpunch.com/jobs?career_type=1&keywords=머신러닝&keywords=machine%20learning&keywords=data&keywords=python&keywords=machine-learning&keywords=data-analysis&page=3&q=', 'https://www.rocketpunch.com/jobs?career_type=1&keywords=머신러닝&keywords=machine%20learning&keywords=data&keywords=python&keywords=machine-learning&keywords=data-analysis&page=4&q=']\n"
     ]
    }
   ],
   "source": [
    "adds = [\"https://www.rocketpunch.com/jobs?career_type=1&keywords=머신러닝&keywords=machine%20learning&keywords=data&keywords=python&keywords=machine-learning&keywords=data-analysis&page={}&q=\".format(i) for i in range(1,5)]\n",
    "print(adds)"
   ]
  },
  {
   "cell_type": "code",
   "execution_count": null,
   "metadata": {
    "collapsed": true
   },
   "outputs": [],
   "source": []
  },
  {
   "cell_type": "code",
   "execution_count": 3,
   "metadata": {},
   "outputs": [
    {
     "name": "stdout",
     "output_type": "stream",
     "text": [
      "트릿지 (Tridge)\n",
      "https://www.rocketpunch.com/companies/tridge/jobs\n",
      "요비네트워크 (Yobi network)\n",
      "https://www.rocketpunch.com/companies/yobinetwork/jobs\n",
      "알고리고 (Algorigo)\n",
      "https://www.rocketpunch.com/companies/algorigo/jobs\n",
      "펜션으로튀어라 (Pensionrun)\n",
      "https://www.rocketpunch.com/companies/pentui/jobs\n",
      "엠투브 (MtoV)\n",
      "https://www.rocketpunch.com/companies/mtov/jobs\n",
      "일삼헤르츠 (13hz)\n",
      "https://www.rocketpunch.com/companies/13hertz/jobs\n",
      "인디고 (indigo)\n",
      "https://www.rocketpunch.com/companies/indigo-5/jobs\n",
      "비주얼캠프 (Visual Camp)\n",
      "https://www.rocketpunch.com/companies/visualcamp/jobs\n",
      "망고플레이트 (MangoPlate)\n",
      "https://www.rocketpunch.com/companies/mangoplate/jobs\n",
      "더루프 (theloop)\n",
      "https://www.rocketpunch.com/companies/theloop/jobs\n",
      "빅트리 (Bigtree)\n",
      "https://www.rocketpunch.com/companies/bigtree/jobs\n",
      "알고씽 (algo-thing)\n",
      "https://www.rocketpunch.com/companies/algo-thing/jobs\n",
      "트래블플랜 (TravelFlan)\n",
      "https://www.rocketpunch.com/companies/travelflan/jobs\n",
      "아이비베리 (ivyberry)\n",
      "https://www.rocketpunch.com/companies/ivyberry/jobs\n",
      "씨랩 (C.LAB)\n",
      "https://www.rocketpunch.com/companies/clab/jobs\n",
      "(주)블렌딩 (VLENDING)\n",
      "https://www.rocketpunch.com/companies/vlending/jobs\n",
      "페이워시어스트 (payworthiest.com)\n",
      "https://www.rocketpunch.com/companies/payworthiestcom/jobs\n",
      "재능넷 (jaenungnet)\n",
      "https://www.rocketpunch.com/companies/jaenungnet/jobs\n",
      "버즈니(홈쇼핑모아) (BUZZNI)\n",
      "https://www.rocketpunch.com/companies/buzzni/jobs\n",
      "어반플레이 (URBANPLAY)\n",
      "https://www.rocketpunch.com/companies/urbanplay/jobs\n"
     ]
    }
   ],
   "source": [
    "chromedriver = 'D:/DSS/chromedriver_win32/chromedriver.exe'\n",
    "driver = webdriver.Chrome(chromedriver)\n",
    "\n",
    "## place for adds ##\n",
    "\n",
    "try:\n",
    "    driver.get(adds[0])\n",
    "\n",
    "    things = driver.find_elements_by_css_selector(\n",
    "        '#company-list div.company-name a:nth-child(1)')\n",
    "    #driver.implicitly_wait(10)\n",
    "    comp_names = []\n",
    "    comp_links = []\n",
    "    for t in things:\n",
    "        print(t.text)\n",
    "        comp_names.append(t.text)\n",
    "        link = t.get_attribute(\"href\")\n",
    "        comp_links.append(link)\n",
    "        print(link)\n",
    "        \n",
    "    #print(comp_names)\n",
    "    #print(comp_links)\n",
    "    \n",
    "except Exception as e:\n",
    "    print(e)\n",
    "    \n",
    "finally:\n",
    "    driver.quit()"
   ]
  },
  {
   "cell_type": "code",
   "execution_count": 4,
   "metadata": {},
   "outputs": [
    {
     "name": "stdout",
     "output_type": "stream",
     "text": [
      "UI/UX Designer at Tridge\n",
      "https://www.rocketpunch.com/jobs/33054/UIUX-Designer-at-Tridge\n",
      "Operation / Trading / Marketing at Tridge\n",
      "https://www.rocketpunch.com/jobs/9505/Operation-Trading-Marketing-at-Tridge\n",
      "Software Engineer at Tridge\n",
      "https://www.rocketpunch.com/jobs/9504/Software-Engineer-at-Tridge\n",
      "['UI/UX Designer at Tridge', 'Operation / Trading / Marketing at Tridge', 'Software Engineer at Tridge']\n",
      "['https://www.rocketpunch.com/jobs/33054/UIUX-Designer-at-Tridge', 'https://www.rocketpunch.com/jobs/9505/Operation-Trading-Marketing-at-Tridge', 'https://www.rocketpunch.com/jobs/9504/Software-Engineer-at-Tridge']\n"
     ]
    }
   ],
   "source": [
    "chromedriver = 'D:/DSS/chromedriver_win32/chromedriver.exe'\n",
    "driver = webdriver.Chrome(chromedriver)\n",
    "\n",
    "try:\n",
    "    driver.get(comp_links[0])\n",
    "\n",
    "    things = driver.find_elements_by_css_selector(\n",
    "        '#company-jobs div.ui.job-title.header a')\n",
    "    #driver.implicitly_wait(10)\n",
    "    job_names = []\n",
    "    job_links = []\n",
    "    for t in things:\n",
    "        print(t.text)\n",
    "        job_names.append(t.text)\n",
    "        link = t.get_attribute(\"href\")\n",
    "        job_links.append(link)\n",
    "        print(link)\n",
    "        \n",
    "    #print(job_names)\n",
    "    #print(job_links)\n",
    "    \n",
    "except Exception as e:\n",
    "    print(e)\n",
    "    \n",
    "finally:\n",
    "    driver.quit()"
   ]
  },
  {
   "cell_type": "code",
   "execution_count": 11,
   "metadata": {},
   "outputs": [
    {
     "name": "stdout",
     "output_type": "stream",
     "text": [
      "트릿지 (Tridge)\n",
      "UI/UX Designer at Tridge\n",
      "최소 3,000만원 / 최대 1.0% / 인턴, 신입, 경력\n",
      "\n",
      "As a UI/UX Designer, you will be involved in every aspect of the product development process, from brainstorming the next great product innovation to tweaking pixels right before launch. You will be expected to utilize your full range of product design, interaction design, and visual design skills, and you will own the experience for a wide area of the Tridge product.\n",
      "\n",
      "RESPONSIBILITIES\n",
      "\n",
      "- Create mockups or wireframes for new features and improvements\n",
      "- Help conduct user interviews and tests, and iterate based on feedback\n",
      "- Work with engineering to ensure the final product reflects your vision\n",
      "- Work with data science to deliver insights in the most impactful way for our customers\n",
      "- Lead big-picture UX discussions\n",
      "\n",
      "QUALIFICATION\n",
      "\n",
      "- Extensive experience designing usable experiences for web or mobile\n",
      "- Ability to design as an individual but within the framework of the team and product\n",
      "- Strong teamwork and communication skills\n",
      "- Passion for and ability to thrive in a fast-paced startup environment\n",
      "더 보기\n",
      "2017-11-18 14:58:53.362566\n"
     ]
    }
   ],
   "source": [
    "chromedriver = 'D:/DSS/chromedriver_win32/chromedriver.exe'\n",
    "driver = webdriver.Chrome(chromedriver)\n",
    "\n",
    "try:\n",
    "    driver.get(job_links[0])\n",
    "    \n",
    "    company_name = comp_names[0]\n",
    "    title = job_names[0]\n",
    "    condition = driver.find_elements_by_css_selector('div.job-stat-info')\n",
    "    main = driver.find_elements_by_css_selector('#job-duty')\n",
    "    detail = driver.find_elements_by_css_selector('#job-content')\n",
    "    #driver.implicitly_wait(10)\n",
    "    \n",
    "    print(company_name)\n",
    "    print(title)    \n",
    "    print(condition[0].text)\n",
    "    print()\n",
    "    print(main[0].text)\n",
    "    print()\n",
    "    print(detail[0].text)\n",
    "    print(datetime.datetime.now())\n",
    "    \n",
    "except Exception as e:\n",
    "    print(e)\n",
    "    \n",
    "finally:\n",
    "    driver.quit()"
   ]
  }
 ],
 "metadata": {
  "kernelspec": {
   "display_name": "Python 3",
   "language": "python",
   "name": "python3"
  },
  "language_info": {
   "codemirror_mode": {
    "name": "ipython",
    "version": 3
   },
   "file_extension": ".py",
   "mimetype": "text/x-python",
   "name": "python",
   "nbconvert_exporter": "python",
   "pygments_lexer": "ipython3",
   "version": "3.6.1"
  }
 },
 "nbformat": 4,
 "nbformat_minor": 2
}
